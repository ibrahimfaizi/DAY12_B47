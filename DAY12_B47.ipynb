{
 "cells": [
  {
   "cell_type": "code",
   "execution_count": null,
   "id": "e4afcc7e",
   "metadata": {},
   "outputs": [],
   "source": []
  },
  {
   "cell_type": "code",
   "execution_count": 5,
   "id": "35893815",
   "metadata": {},
   "outputs": [],
   "source": [
    "class Greet:\n",
    "    \"\"\"creating a greet class\"\"\"\n",
    "    \n",
    "    def createname(self,username):\n",
    "        self.username = username\n",
    "        \n",
    "    def displayname(self):\n",
    "        print(self.username)\n",
    "        \n",
    "    def greetname(self):\n",
    "        print(f\"Hello, {self.username}\")"
   ]
  },
  {
   "cell_type": "code",
   "execution_count": null,
   "id": "c6ca83f2",
   "metadata": {},
   "outputs": [],
   "source": []
  },
  {
   "cell_type": "code",
   "execution_count": 6,
   "id": "a52afe2d",
   "metadata": {},
   "outputs": [],
   "source": [
    "test = Greet()"
   ]
  },
  {
   "cell_type": "code",
   "execution_count": 7,
   "id": "ae1c9f2a",
   "metadata": {},
   "outputs": [],
   "source": [
    "test.createname('naser')"
   ]
  },
  {
   "cell_type": "code",
   "execution_count": 9,
   "id": "6333f2c5",
   "metadata": {},
   "outputs": [
    {
     "name": "stdout",
     "output_type": "stream",
     "text": [
      "naser\n"
     ]
    }
   ],
   "source": [
    "test.displayname()"
   ]
  },
  {
   "cell_type": "code",
   "execution_count": 10,
   "id": "25c74ff7",
   "metadata": {},
   "outputs": [
    {
     "name": "stdout",
     "output_type": "stream",
     "text": [
      "Hello, naser\n"
     ]
    }
   ],
   "source": [
    "test.greetname()"
   ]
  },
  {
   "cell_type": "code",
   "execution_count": null,
   "id": "51a27fb6",
   "metadata": {},
   "outputs": [],
   "source": []
  },
  {
   "cell_type": "code",
   "execution_count": 11,
   "id": "7f8245ba",
   "metadata": {},
   "outputs": [],
   "source": [
    "xobj = Greet()"
   ]
  },
  {
   "cell_type": "code",
   "execution_count": 12,
   "id": "48ba8a00",
   "metadata": {},
   "outputs": [],
   "source": [
    "xobj.createname('Parveen')"
   ]
  },
  {
   "cell_type": "code",
   "execution_count": 15,
   "id": "4954a433",
   "metadata": {},
   "outputs": [
    {
     "name": "stdout",
     "output_type": "stream",
     "text": [
      "Parveen\n"
     ]
    }
   ],
   "source": [
    "xobj.displayname()"
   ]
  },
  {
   "cell_type": "code",
   "execution_count": 16,
   "id": "397b4f4f",
   "metadata": {},
   "outputs": [
    {
     "name": "stdout",
     "output_type": "stream",
     "text": [
      "Hello, Parveen\n"
     ]
    }
   ],
   "source": [
    "xobj.greetname()"
   ]
  },
  {
   "cell_type": "code",
   "execution_count": null,
   "id": "eea64b6c",
   "metadata": {},
   "outputs": [],
   "source": []
  },
  {
   "cell_type": "code",
   "execution_count": null,
   "id": "517edd31",
   "metadata": {},
   "outputs": [],
   "source": [
    "constructor"
   ]
  },
  {
   "cell_type": "code",
   "execution_count": null,
   "id": "911af514",
   "metadata": {},
   "outputs": [],
   "source": [
    "creating an example of dog class"
   ]
  },
  {
   "cell_type": "code",
   "execution_count": 17,
   "id": "40a66c5a",
   "metadata": {},
   "outputs": [],
   "source": [
    "class Dog:\n",
    "    \"\"\"creating a dog class\"\"\"\n",
    "    \n",
    "    def __init__(self,name,age):\n",
    "        self.name = name\n",
    "        self.age = age\n",
    "        \n",
    "    def jump(self):\n",
    "        print(f\"{self.name} is now jumping on the command\")\n",
    "        \n",
    "    def sleep(self):\n",
    "        print(f\"{self.name} is now sleeping on the command\")\n",
    "        \n",
    "    def rollover(self):\n",
    "        print(f\"{self.name} is no rollover on the command\")\n",
    "        \n",
    "    def details(self):\n",
    "        print(f\"I have a Dog named {self.name}\")\n",
    "        print(f\"My {self.name} is of {self.age} years old\")\n",
    "    "
   ]
  },
  {
   "cell_type": "code",
   "execution_count": 19,
   "id": "a5c91d62",
   "metadata": {},
   "outputs": [],
   "source": [
    "aobj = Dog('pluto',2)"
   ]
  },
  {
   "cell_type": "code",
   "execution_count": 20,
   "id": "831d0a64",
   "metadata": {},
   "outputs": [
    {
     "name": "stdout",
     "output_type": "stream",
     "text": [
      "pluto is now jumping on the command\n"
     ]
    }
   ],
   "source": [
    "aobj.jump()"
   ]
  },
  {
   "cell_type": "code",
   "execution_count": 21,
   "id": "c972c36e",
   "metadata": {},
   "outputs": [
    {
     "name": "stdout",
     "output_type": "stream",
     "text": [
      "pluto is no rollover on the command\n"
     ]
    }
   ],
   "source": [
    "aobj.rollover()"
   ]
  },
  {
   "cell_type": "code",
   "execution_count": 22,
   "id": "462d2631",
   "metadata": {},
   "outputs": [
    {
     "name": "stdout",
     "output_type": "stream",
     "text": [
      "pluto is now sleeping on the command\n"
     ]
    }
   ],
   "source": [
    "aobj.sleep()"
   ]
  },
  {
   "cell_type": "code",
   "execution_count": 23,
   "id": "b31122ff",
   "metadata": {},
   "outputs": [
    {
     "name": "stdout",
     "output_type": "stream",
     "text": [
      "I have a dog named pluto\n",
      "My pluto is of 2 years old\n"
     ]
    }
   ],
   "source": [
    "aobj.details()"
   ]
  },
  {
   "cell_type": "code",
   "execution_count": null,
   "id": "924028f3",
   "metadata": {},
   "outputs": [],
   "source": []
  },
  {
   "cell_type": "code",
   "execution_count": null,
   "id": "26e11d98",
   "metadata": {},
   "outputs": [],
   "source": [
    "2nd exmaple will take of cat"
   ]
  },
  {
   "cell_type": "code",
   "execution_count": null,
   "id": "f44e12d5",
   "metadata": {},
   "outputs": [],
   "source": []
  },
  {
   "cell_type": "code",
   "execution_count": 67,
   "id": "713ee2ff",
   "metadata": {},
   "outputs": [],
   "source": [
    "class Cat():\n",
    "    \"\"\"creating a cat class\"\"\"\n",
    "    \n",
    "    def __init__(self,name,age):\n",
    "        self.name = name\n",
    "        self.age = age\n",
    "        \n",
    "    def jump(self):\n",
    "        print(f\"{self.name} is now jumping on my command\")\n",
    "        \n",
    "    def sleep(self):\n",
    "        print(f\"{self.name} is now sleeping on my command\")\n",
    "        \n",
    "    def rollover(self):\n",
    "        print(f\"{self.name} is now rollover on my command\")\n",
    "        \n",
    "    def details(self):\n",
    "        print(f\"I have a Cat named as {self.name}\")\n",
    "        print(f\"My {self.name} is of {self.age} years old\")"
   ]
  },
  {
   "cell_type": "code",
   "execution_count": null,
   "id": "bd0a063f",
   "metadata": {},
   "outputs": [],
   "source": []
  },
  {
   "cell_type": "code",
   "execution_count": 68,
   "id": "ba96a6e1",
   "metadata": {},
   "outputs": [],
   "source": [
    "aobj = Cat('Snowbell',2)"
   ]
  },
  {
   "cell_type": "code",
   "execution_count": 69,
   "id": "461c5c2f",
   "metadata": {},
   "outputs": [
    {
     "name": "stdout",
     "output_type": "stream",
     "text": [
      "Snowbell is now jumping on my command\n"
     ]
    }
   ],
   "source": [
    "aobj.jump()"
   ]
  },
  {
   "cell_type": "code",
   "execution_count": 70,
   "id": "a89adc44",
   "metadata": {},
   "outputs": [
    {
     "name": "stdout",
     "output_type": "stream",
     "text": [
      "Snowbell is now sleeping on my command\n"
     ]
    }
   ],
   "source": [
    "aobj.sleep()"
   ]
  },
  {
   "cell_type": "code",
   "execution_count": 71,
   "id": "21fe97a9",
   "metadata": {},
   "outputs": [
    {
     "name": "stdout",
     "output_type": "stream",
     "text": [
      "Snowbell is now rollover on my command\n"
     ]
    }
   ],
   "source": [
    "aobj.rollover()"
   ]
  },
  {
   "cell_type": "code",
   "execution_count": 72,
   "id": "8c156b90",
   "metadata": {},
   "outputs": [
    {
     "name": "stdout",
     "output_type": "stream",
     "text": [
      "I have a Cat named as Snowbell\n",
      "My Snowbell is of 2 years old\n"
     ]
    }
   ],
   "source": [
    "aobj.details()"
   ]
  },
  {
   "cell_type": "code",
   "execution_count": null,
   "id": "0c963e49",
   "metadata": {},
   "outputs": [],
   "source": []
  },
  {
   "cell_type": "code",
   "execution_count": null,
   "id": "5f77b962",
   "metadata": {},
   "outputs": [],
   "source": []
  }
 ],
 "metadata": {
  "kernelspec": {
   "display_name": "Python 3",
   "language": "python",
   "name": "python3"
  },
  "language_info": {
   "codemirror_mode": {
    "name": "ipython",
    "version": 3
   },
   "file_extension": ".py",
   "mimetype": "text/x-python",
   "name": "python",
   "nbconvert_exporter": "python",
   "pygments_lexer": "ipython3",
   "version": "3.8.8"
  }
 },
 "nbformat": 4,
 "nbformat_minor": 5
}
